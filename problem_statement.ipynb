{
 "cells": [
  {
   "cell_type": "markdown",
   "id": "ac4c3853",
   "metadata": {},
   "source": [
    "### Problem Statement"
   ]
  },
  {
   "cell_type": "markdown",
   "id": "5d2cafcd",
   "metadata": {},
   "source": [
    "Voltura Motors is a leading automotive company from Germany, specializing in electric vehicles (EVs). Over the last five years, their market share has grown to 28% in the electric and hybrid vehicle segment across Europe. As part of their global expansion strategy, they are planning to introduce their top-selling EV models in India, where their current market share is less than 3%.\n",
    "\n",
    "To ensure the success of this move, Raj Mehta, the Managing Director of Voltura Motors India, has decided to conduct a comprehensive study of the existing EV and Hybrid market in India before making further strategic decisions. He has entrusted this responsibility to the business analytics division of Voltura Motors, where Ananya Sharma is the data analyst leading the research."
   ]
  },
  {
   "cell_type": "code",
   "execution_count": null,
   "id": "bdc71441",
   "metadata": {
    "vscode": {
     "languageId": "plaintext"
    }
   },
   "outputs": [],
   "source": []
  },
  {
   "cell_type": "code",
   "execution_count": null,
   "id": "a34c1b4c",
   "metadata": {
    "vscode": {
     "languageId": "plaintext"
    }
   },
   "outputs": [],
   "source": []
  },
  {
   "cell_type": "code",
   "execution_count": null,
   "id": "6ec0cd05",
   "metadata": {
    "vscode": {
     "languageId": "plaintext"
    }
   },
   "outputs": [],
   "source": []
  }
 ],
 "metadata": {
  "language_info": {
   "name": "python"
  }
 },
 "nbformat": 4,
 "nbformat_minor": 5
}
